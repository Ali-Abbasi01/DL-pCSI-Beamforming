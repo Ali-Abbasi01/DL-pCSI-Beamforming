{
 "cells": [
  {
   "cell_type": "markdown",
   "id": "70664649",
   "metadata": {},
   "source": [
    "An example of producing a channel using the beam_network_ch_model module"
   ]
  },
  {
   "cell_type": "code",
   "execution_count": 13,
   "id": "4cd38a90",
   "metadata": {},
   "outputs": [],
   "source": [
    "import numpy as np\n",
    "import torch\n",
    "import os\n",
    "import sys\n",
    "import importlib\n",
    "torch.set_default_dtype(torch.float64)\n",
    "import matplotlib.pyplot as plt\n",
    "\n",
    "# Get the current working directory\n",
    "scripts_dir = os.getcwd()\n",
    "# Go up two levels\n",
    "project_root = os.path.abspath(os.path.join(scripts_dir, '..'))\n",
    "sys.path.append(project_root)\n",
    "\n",
    "import src.beam_network_ch_model\n",
    "importlib.reload(src.beam_network_ch_model)\n",
    "from src.beam_network_ch_model import Network, pair"
   ]
  },
  {
   "cell_type": "code",
   "execution_count": 14,
   "id": "65558d34",
   "metadata": {},
   "outputs": [],
   "source": [
    "#Setting Network Parameters\n",
    "num_RX_ant = 2\n",
    "num_TX_ant = 4\n",
    "num_scatterers = torch.tensor([[1, 1], [1, 1]])\n",
    "lam = 0.01\n",
    "Ant_dist = 0.005\n",
    "#Setting Locations\n",
    "TX_locs = [torch.tensor([-10.0, 0.0], dtype=torch.float64), torch.tensor([0.0, 0.0], dtype=torch.float64)]\n",
    "RX_locs = [torch.tensor([-10.0, -10.0], dtype=torch.float64), torch.tensor([0, -10.0], dtype=torch.float64)]\n",
    "SC_locs = np.array([[torch.tensor([[-20.0, -5.0]], dtype=torch.float64), torch.tensor([[10.0, -5.0]], dtype=torch.float64)],\n",
    "                     [torch.tensor([[-20.0, -5.0]], dtype=torch.float64), torch.tensor([[10.0, -5.0]], dtype=torch.float64)]])"
   ]
  },
  {
   "cell_type": "code",
   "execution_count": 15,
   "id": "8ea09784",
   "metadata": {},
   "outputs": [],
   "source": [
    "N = Network()\n",
    "N.num_RX_ant = num_RX_ant\n",
    "N.num_TX_ant = num_TX_ant\n",
    "N.num_scatterers = num_scatterers\n",
    "N.lam = lam\n",
    "N.Ant_dist = Ant_dist\n",
    "N.TX_locs = TX_locs\n",
    "N.RX_locs = RX_locs\n",
    "N.SC_locs = SC_locs\n",
    "N.rand_ph = 0"
   ]
  },
  {
   "cell_type": "code",
   "execution_count": 16,
   "id": "526d2e83",
   "metadata": {},
   "outputs": [],
   "source": [
    "p = pair(N, 1, 1)"
   ]
  },
  {
   "cell_type": "code",
   "execution_count": 17,
   "id": "32f600de",
   "metadata": {},
   "outputs": [
    {
     "data": {
      "text/plain": [
       "tensor([[0.1000+6.4283e-14j, 0.0000+0.0000e+00j],\n",
       "        [0.0000+0.0000e+00j, 0.0445+4.3082e-03j]], dtype=torch.complex64)"
      ]
     },
     "execution_count": 17,
     "metadata": {},
     "output_type": "execute_result"
    }
   ],
   "source": [
    "p.calculate_A(L = [torch.tensor(torch.pi/6), torch.tensor(torch.pi/6)])\n",
    "# p.calculate_Br()"
   ]
  },
  {
   "cell_type": "code",
   "execution_count": 18,
   "id": "2218c314",
   "metadata": {},
   "outputs": [
    {
     "data": {
      "text/plain": [
       "tensor([[ 1.0000+0.0000j,  1.0000+0.0000j],\n",
       "        [ 1.0000+0.0000j, -0.9455-0.3256j]], dtype=torch.complex64)"
      ]
     },
     "execution_count": 18,
     "metadata": {},
     "output_type": "execute_result"
    }
   ],
   "source": [
    "p.calculate_Br()"
   ]
  },
  {
   "cell_type": "code",
   "execution_count": 19,
   "id": "d16c23e6",
   "metadata": {},
   "outputs": [
    {
     "data": {
      "text/plain": [
       "tensor([[ 1.0000-0.0000j,  1.0000-0.0000j],\n",
       "        [ 1.0000-0.0000j, -0.9455-0.3256j],\n",
       "        [ 1.0000-0.0000j,  0.7879+0.6157j],\n",
       "        [ 1.0000-0.0000j, -0.5445-0.8388j]], dtype=torch.complex64)"
      ]
     },
     "execution_count": 19,
     "metadata": {},
     "output_type": "execute_result"
    }
   ],
   "source": [
    "p.calculate_Bt()"
   ]
  }
 ],
 "metadata": {
  "kernelspec": {
   "display_name": "DL_pCSI_Beamforming",
   "language": "python",
   "name": "python3"
  },
  "language_info": {
   "codemirror_mode": {
    "name": "ipython",
    "version": 3
   },
   "file_extension": ".py",
   "mimetype": "text/x-python",
   "name": "python",
   "nbconvert_exporter": "python",
   "pygments_lexer": "ipython3",
   "version": "3.9.20"
  }
 },
 "nbformat": 4,
 "nbformat_minor": 5
}
