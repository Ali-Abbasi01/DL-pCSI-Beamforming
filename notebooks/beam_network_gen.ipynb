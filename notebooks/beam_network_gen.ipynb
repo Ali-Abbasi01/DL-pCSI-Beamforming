{
 "cells": [
  {
   "cell_type": "code",
   "execution_count": null,
   "id": "4cd38a90",
   "metadata": {},
   "outputs": [],
   "source": [
    "import numpy as np\n",
    "import torch\n",
    "torch.set_default_dtype(torch.float64)\n",
    "import matplotlib.pyplot as plt\n",
    "from src.beam_network_ch_model import Network, pair"
   ]
  },
  {
   "cell_type": "code",
   "execution_count": null,
   "id": "65558d34",
   "metadata": {},
   "outputs": [],
   "source": [
    "#Setting Network Parameters\n",
    "num_RX_ant = 2\n",
    "num_TX_ant = 4\n",
    "num_scatterers = torch.tensor([[1, 1], [1, 1]])\n",
    "lam = 0.01\n",
    "Ant_dist = 0.005\n",
    "#Setting Locations\n",
    "TX_locs = [torch.tensor([-10.0, 0.0], dtype=torch.float64), torch.tensor([0.0, 0.0], dtype=torch.float64)]\n",
    "RX_locs = [torch.tensor([-10.0, -10.0], dtype=torch.float64), torch.tensor([0, -10.0], dtype=torch.float64)]\n",
    "SC_locs = np.array([[torch.tensor([[-20.0, -5.0]], dtype=torch.float64), torch.tensor([[10.0, -5.0]], dtype=torch.float64)],\n",
    "                     [torch.tensor([[-20.0, -5.0]], dtype=torch.float64), torch.tensor([[10.0, -5.0]], dtype=torch.float64)]])"
   ]
  },
  {
   "cell_type": "code",
   "execution_count": null,
   "id": "8ea09784",
   "metadata": {},
   "outputs": [],
   "source": [
    "N = Network()\n",
    "N.num_RX_ant = num_RX_ant\n",
    "N.num_TX_ant = num_TX_ant\n",
    "N.num_scatterers = num_scatterers\n",
    "N.lam = lam\n",
    "N.Ant_dist = Ant_dist\n",
    "N.TX_locs = TX_locs\n",
    "N.RX_locs = RX_locs\n",
    "N.SC_locs = SC_locs\n",
    "N.rand_ph = 0"
   ]
  },
  {
   "cell_type": "code",
   "execution_count": null,
   "id": "526d2e83",
   "metadata": {},
   "outputs": [],
   "source": [
    "p = pair(N, 1, 1)"
   ]
  },
  {
   "cell_type": "code",
   "execution_count": null,
   "id": "32f600de",
   "metadata": {},
   "outputs": [],
   "source": [
    "p.calculate_A(L = [torch.tensor(torch.pi/6), torch.tensor(torch.pi/6)])\n",
    "# p.calculate_Br()"
   ]
  }
 ],
 "metadata": {
  "kernelspec": {
   "display_name": "DL_pCSI_Beamforming",
   "language": "python",
   "name": "python3"
  },
  "language_info": {
   "codemirror_mode": {
    "name": "ipython",
    "version": 3
   },
   "file_extension": ".py",
   "mimetype": "text/x-python",
   "name": "python",
   "nbconvert_exporter": "python",
   "pygments_lexer": "ipython3",
   "version": "3.9.20"
  }
 },
 "nbformat": 4,
 "nbformat_minor": 5
}
