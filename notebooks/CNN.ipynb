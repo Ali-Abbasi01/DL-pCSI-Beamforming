{
 "cells": [
  {
   "cell_type": "code",
   "execution_count": null,
   "id": "a18c635b",
   "metadata": {},
   "outputs": [],
   "source": [
    "import torch\n",
    "import pandas as pd\n",
    "import json\n",
    "import os\n",
    "import sys\n",
    "\n",
    "scripts_dir = os.getcwd()\n",
    "# Go up one level\n",
    "project_root = os.path.abspath(os.path.join(scripts_dir, '..'))\n",
    "sys.path.append(project_root)\n",
    "\n",
    "from src.CNN import BeamformingCNN\n",
    "\n",
    "c = BeamformingCNN(3, 5, 30)"
   ]
  }
 ],
 "metadata": {
  "language_info": {
   "name": "python"
  }
 },
 "nbformat": 4,
 "nbformat_minor": 5
}
