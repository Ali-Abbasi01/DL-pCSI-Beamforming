{
 "cells": [
  {
   "cell_type": "markdown",
   "id": "8fcb2f09",
   "metadata": {},
   "source": [
    "Run pga for a fixed channel matrix and compare the result with waterfilling algorithm output"
   ]
  },
  {
   "cell_type": "code",
   "execution_count": 587,
   "id": "5fcd4d38",
   "metadata": {},
   "outputs": [],
   "source": [
    "import numpy as np\n",
    "import torch\n",
    "import os\n",
    "import sys\n",
    "import importlib\n",
    "torch.set_default_dtype(torch.float64)\n",
    "import matplotlib.pyplot as plt\n",
    "\n",
    "# Get the current working directory\n",
    "scripts_dir = os.getcwd()\n",
    "# Go up two levels\n",
    "project_root = os.path.abspath(os.path.join(scripts_dir, '..'))\n",
    "sys.path.append(project_root)\n",
    "\n",
    "import src.beam_network_ch_model\n",
    "importlib.reload(src.beam_network_ch_model)\n",
    "from src.beam_network_ch_model import Network, pair\n",
    "\n",
    "import src.utils\n",
    "importlib.reload(src.utils)\n",
    "from src.utils import calculate_rate\n",
    "\n",
    "import src.beamforming\n",
    "importlib.reload(src.beamforming)\n",
    "from src.beamforming import wf_algorithm\n",
    "\n",
    "import src.pga\n",
    "importlib.reload(src.pga)\n",
    "from src.pga import fixed_channel_pga, Bnetwork_channel_pga"
   ]
  },
  {
   "cell_type": "code",
   "execution_count": 583,
   "id": "513d40e2",
   "metadata": {},
   "outputs": [],
   "source": [
    "# For fixed channel\n",
    "#Setting Network Parameters\n",
    "num_RX_ant = 2\n",
    "num_TX_ant = 4\n",
    "num_scatterers = torch.tensor([[1, 1], [1, 1]])\n",
    "lam = 0.01\n",
    "Ant_dist = 0.005\n",
    "#Setting Locations\n",
    "TX_locs = [torch.tensor([-10.0, 0.0], dtype=torch.float64), torch.tensor([0.0, 0.0], dtype=torch.float64)]\n",
    "RX_locs = [torch.tensor([-10.0, -10.0], dtype=torch.float64), torch.tensor([0, -10.0], dtype=torch.float64)]\n",
    "SC_locs = np.array([[torch.tensor([[-20.0, -5.0]], dtype=torch.float64), torch.tensor([[10.0, -5.0]], dtype=torch.float64)],\n",
    "                     [torch.tensor([[-20.0, -5.0]], dtype=torch.float64), torch.tensor([[10.0, -5.0]], dtype=torch.float64)]])\n",
    "\n",
    "N = Network()\n",
    "N.num_RX_ant = num_RX_ant\n",
    "N.num_TX_ant = num_TX_ant\n",
    "N.num_scatterers = num_scatterers\n",
    "N.lam = lam\n",
    "N.Ant_dist = Ant_dist\n",
    "N.TX_locs = TX_locs\n",
    "N.RX_locs = RX_locs\n",
    "N.SC_locs = SC_locs\n",
    "N.rand_ph = 1\n",
    "\n",
    "p = pair(N, 0, 0)\n",
    "\n",
    "Br = p.calculate_Br()\n",
    "Bt = p.calculate_Bt()\n",
    "A = p.calculate_A()\n",
    "H = Br @ A @ Bt.conj().T"
   ]
  },
  {
   "cell_type": "code",
   "execution_count": 584,
   "id": "23a20293",
   "metadata": {},
   "outputs": [
    {
     "data": {
      "text/plain": [
       "tensor(0.4282-1.4328e-09j, dtype=torch.complex64, grad_fn=<Log2Backward0>)"
      ]
     },
     "execution_count": 584,
     "metadata": {},
     "output_type": "execute_result"
    }
   ],
   "source": [
    "wf = wf_algorithm(H=H, Pt=5)\n",
    "p_aloc = wf.p_allocation()\n",
    "bf = wf.bf_matrix()\n",
    "sig1 = bf @ p_aloc @ bf.conj().T\n",
    "r1 = calculate_rate(H, Sigma)\n",
    "r1"
   ]
  },
  {
   "cell_type": "code",
   "execution_count": 585,
   "id": "cf6d7897",
   "metadata": {},
   "outputs": [
    {
     "data": {
      "text/plain": [
       "tensor(0.4323-7.8656e-09j, dtype=torch.complex64)"
      ]
     },
     "execution_count": 585,
     "metadata": {},
     "output_type": "execute_result"
    }
   ],
   "source": [
    "f = fixed_channel_pga(H, 5)\n",
    "Sigma = f.solve()\n",
    "r2 = calculate_rate(H, Sigma)\n",
    "r2"
   ]
  },
  {
   "cell_type": "markdown",
   "id": "c038cfd1",
   "metadata": {},
   "source": [
    "Run pga for beam network channel model"
   ]
  },
  {
   "cell_type": "code",
   "execution_count": null,
   "id": "e5229ee1",
   "metadata": {},
   "outputs": [],
   "source": [
    "p = pair(N, 0, 0)\n",
    "bnet = Bnetwork_channel_pga(P=p, PT=5)\n",
    "bnet.solve()"
   ]
  }
 ],
 "metadata": {
  "kernelspec": {
   "display_name": "DL_pCSI_Beamforming",
   "language": "python",
   "name": "python3"
  },
  "language_info": {
   "codemirror_mode": {
    "name": "ipython",
    "version": 3
   },
   "file_extension": ".py",
   "mimetype": "text/x-python",
   "name": "python",
   "nbconvert_exporter": "python",
   "pygments_lexer": "ipython3",
   "version": "3.9.20"
  }
 },
 "nbformat": 4,
 "nbformat_minor": 5
}
