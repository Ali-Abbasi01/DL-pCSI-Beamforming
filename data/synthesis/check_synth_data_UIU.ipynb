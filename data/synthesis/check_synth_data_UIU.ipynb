{
 "cells": [
  {
   "cell_type": "markdown",
   "metadata": {},
   "source": [
    "Check the synthesized UIU dataset and bring it into the desired dataframe form"
   ]
  },
  {
   "cell_type": "code",
   "execution_count": 1,
   "metadata": {},
   "outputs": [],
   "source": [
    "import torch\n",
    "import pandas as pd\n",
    "import json"
   ]
  },
  {
   "cell_type": "code",
   "execution_count": 2,
   "metadata": {},
   "outputs": [],
   "source": [
    "df = pd.read_csv(\"synthesized_data_UIU.csv\")"
   ]
  },
  {
   "cell_type": "code",
   "execution_count": 3,
   "metadata": {},
   "outputs": [],
   "source": [
    "df[\"U_R\"] = df[\"U_R\"].apply(lambda x: torch.tensor(json.loads(x)))\n",
    "\n",
    "df[\"U_T\"] = df[\"U_T\"].apply(lambda x: torch.tensor(json.loads(x)))\n",
    "\n",
    "df[\"H_bar\"] = df[\"H_bar\"].apply(lambda x: torch.tensor(json.loads(x)))\n",
    "\n",
    "df [\"G\"] = df[\"G\"].apply(lambda x: torch.tensor(json.loads(x)))\n",
    "\n",
    "df[\"V\"] = df[\"V\"].apply(lambda x: torch.tensor(json.loads(x)))\n",
    "\n",
    "df[\"P\"] = df[\"P\"].apply(lambda x: torch.tensor(json.loads(x)))"
   ]
  }
 ],
 "metadata": {
  "kernelspec": {
   "display_name": "DL_pCSI_Beamforming",
   "language": "python",
   "name": "python3"
  },
  "language_info": {
   "codemirror_mode": {
    "name": "ipython",
    "version": 3
   },
   "file_extension": ".py",
   "mimetype": "text/x-python",
   "name": "python",
   "nbconvert_exporter": "python",
   "pygments_lexer": "ipython3",
   "version": "3.9.20"
  }
 },
 "nbformat": 4,
 "nbformat_minor": 2
}
