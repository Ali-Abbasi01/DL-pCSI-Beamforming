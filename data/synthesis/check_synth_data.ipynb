{
 "cells": [
  {
   "cell_type": "code",
   "execution_count": 6,
   "metadata": {},
   "outputs": [],
   "source": [
    "import torch\n",
    "import pandas as pd\n",
    "import json"
   ]
  },
  {
   "cell_type": "code",
   "execution_count": 7,
   "metadata": {},
   "outputs": [],
   "source": [
    "df = pd.read_csv(\"synthesized_data.csv\")"
   ]
  },
  {
   "cell_type": "code",
   "execution_count": 8,
   "metadata": {},
   "outputs": [],
   "source": [
    "df[\"channel\"] = df[\"channel\"].apply(lambda x: torch.tensor(json.loads(x)[\"real\"]) + \n",
    "                                                  1j * torch.tensor(json.loads(x)[\"imag\"]))\n",
    "\n",
    "df[\"bf_matrix\"] = df[\"bf_matrix\"].apply(lambda x: torch.tensor(json.loads(x)[\"real\"]) + \n",
    "                                                      1j * torch.tensor(json.loads(x)[\"imag\"]))\n",
    "\n",
    "df[\"p_allocation\"] = df[\"p_allocation\"].apply(lambda x: torch.tensor(json.loads(x)[\"real\"]) + \n",
    "                                                                    1j * torch.tensor(json.loads(x)[\"imag\"]))\n",
    "\n",
    "df[\"rate\"] = df[\"rate\"].astype(float)"
   ]
  }
 ],
 "metadata": {
  "kernelspec": {
   "display_name": "DL_pCSI_Beamforming",
   "language": "python",
   "name": "python3"
  },
  "language_info": {
   "codemirror_mode": {
    "name": "ipython",
    "version": 3
   },
   "file_extension": ".py",
   "mimetype": "text/x-python",
   "name": "python",
   "nbconvert_exporter": "python",
   "pygments_lexer": "ipython3",
   "version": "3.9.20"
  }
 },
 "nbformat": 4,
 "nbformat_minor": 2
}
