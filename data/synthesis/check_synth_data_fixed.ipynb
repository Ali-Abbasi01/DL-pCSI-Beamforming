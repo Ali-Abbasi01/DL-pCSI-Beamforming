{
 "cells": [
  {
   "cell_type": "markdown",
   "metadata": {},
   "source": [
    "Check the synthesized fixed Gaussian dataset and bring it into the desired dataframe form"
   ]
  },
  {
   "cell_type": "code",
   "execution_count": 1,
   "metadata": {},
   "outputs": [],
   "source": [
    "import torch\n",
    "import pandas as pd\n",
    "import json"
   ]
  },
  {
   "cell_type": "code",
   "execution_count": 2,
   "metadata": {},
   "outputs": [],
   "source": [
    "df = pd.read_csv(\"synthesized_data_fixed.csv\")"
   ]
  },
  {
   "cell_type": "code",
   "execution_count": 3,
   "metadata": {},
   "outputs": [],
   "source": [
    "df[\"channel\"] = df[\"channel\"].apply(lambda x: torch.tensor(json.loads(x)[\"real\"]) + \n",
    "                                                  1j * torch.tensor(json.loads(x)[\"imag\"]))\n",
    "\n",
    "df[\"bf_matrix\"] = df[\"bf_matrix\"].apply(lambda x: torch.tensor(json.loads(x)[\"real\"]) + \n",
    "                                                      1j * torch.tensor(json.loads(x)[\"imag\"]))\n",
    "\n",
    "df[\"p_allocation\"] = df[\"p_allocation\"].apply(lambda x: torch.tensor(json.loads(x)[\"real\"]) + \n",
    "                                                                    1j * torch.tensor(json.loads(x)[\"imag\"]))\n",
    "\n",
    "df[\"rate\"] = df[\"rate\"].astype(float)"
   ]
  },
  {
   "cell_type": "code",
   "execution_count": 4,
   "metadata": {},
   "outputs": [
    {
     "data": {
      "text/plain": [
       "tensor([[-0.0286-0.6879j, -1.4375-0.0096j,  1.6258-0.8410j,  0.6420+0.2801j],\n",
       "        [ 1.2623+0.1061j,  1.0579-0.0464j,  0.7231+2.1750j, -0.1299+0.5681j],\n",
       "        [-0.1823-1.7884j, -0.8234-0.1030j, -0.3548+0.0380j, -0.1077+1.9532j],\n",
       "        [ 1.3261+0.3205j, -1.4571+0.3527j,  0.1526-0.6006j, -0.0434+0.3081j]])"
      ]
     },
     "execution_count": 4,
     "metadata": {},
     "output_type": "execute_result"
    }
   ],
   "source": [
    "df[\"channel\"][0]"
   ]
  }
 ],
 "metadata": {
  "kernelspec": {
   "display_name": "DL_pCSI_Beamforming",
   "language": "python",
   "name": "python3"
  },
  "language_info": {
   "codemirror_mode": {
    "name": "ipython",
    "version": 3
   },
   "file_extension": ".py",
   "mimetype": "text/x-python",
   "name": "python",
   "nbconvert_exporter": "python",
   "pygments_lexer": "ipython3",
   "version": "3.9.20"
  }
 },
 "nbformat": 4,
 "nbformat_minor": 2
}
